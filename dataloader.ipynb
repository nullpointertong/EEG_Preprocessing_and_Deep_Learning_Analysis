{
 "cells": [
  {
   "cell_type": "code",
   "execution_count": 1,
   "metadata": {},
   "outputs": [
    {
     "name": "stdout",
     "output_type": "stream",
     "text": [
      "Requirement already satisfied: numpy in c:\\users\\auzri\\appdata\\roaming\\python\\python39\\site-packages (1.20.1)\n",
      "Requirement already satisfied: sklearn in c:\\users\\auzri\\appdata\\local\\programs\\python\\python39\\lib\\site-packages (0.0)\n",
      "Requirement already satisfied: scikit-learn in c:\\users\\auzri\\appdata\\local\\programs\\python\\python39\\lib\\site-packages (from sklearn) (0.24.1)\n",
      "Requirement already satisfied: scipy>=0.19.1 in c:\\users\\auzri\\appdata\\local\\programs\\python\\python39\\lib\\site-packages (from scikit-learn->sklearn) (1.6.0)\n",
      "Requirement already satisfied: threadpoolctl>=2.0.0 in c:\\users\\auzri\\appdata\\local\\programs\\python\\python39\\lib\\site-packages (from scikit-learn->sklearn) (2.1.0)\n",
      "Requirement already satisfied: joblib>=0.11 in c:\\users\\auzri\\appdata\\local\\programs\\python\\python39\\lib\\site-packages (from scikit-learn->sklearn) (1.0.0)\n",
      "Requirement already satisfied: numpy>=1.13.3 in c:\\users\\auzri\\appdata\\roaming\\python\\python39\\site-packages (from scikit-learn->sklearn) (1.20.1)\n",
      "Requirement already satisfied: torch in c:\\users\\auzri\\appdata\\local\\programs\\python\\python39\\lib\\site-packages (1.7.1)\n",
      "Requirement already satisfied: numpy in c:\\users\\auzri\\appdata\\roaming\\python\\python39\\site-packages (from torch) (1.20.1)\n",
      "Requirement already satisfied: typing-extensions in c:\\users\\auzri\\appdata\\local\\programs\\python\\python39\\lib\\site-packages (from torch) (3.7.4.3)\n",
      "Requirement already satisfied: pandas in c:\\users\\auzri\\appdata\\roaming\\python\\python39\\site-packages (1.2.2)\n",
      "Requirement already satisfied: python-dateutil>=2.7.3 in c:\\users\\auzri\\appdata\\roaming\\python\\python39\\site-packages (from pandas) (2.8.1)\n",
      "Requirement already satisfied: pytz>=2017.3 in c:\\users\\auzri\\appdata\\local\\programs\\python\\python39\\lib\\site-packages (from pandas) (2020.5)\n",
      "Requirement already satisfied: numpy>=1.16.5 in c:\\users\\auzri\\appdata\\roaming\\python\\python39\\site-packages (from pandas) (1.20.1)\n",
      "Requirement already satisfied: six>=1.5 in c:\\users\\auzri\\appdata\\roaming\\python\\python39\\site-packages (from python-dateutil>=2.7.3->pandas) (1.15.0)\n",
      "Requirement already satisfied: matplotlib in c:\\users\\auzri\\appdata\\roaming\\python\\python39\\site-packages (3.3.4)\n",
      "Requirement already satisfied: pyparsing!=2.0.4,!=2.1.2,!=2.1.6,>=2.0.3 in c:\\users\\auzri\\appdata\\roaming\\python\\python39\\site-packages (from matplotlib) (2.4.7)\n",
      "Requirement already satisfied: cycler>=0.10 in c:\\users\\auzri\\appdata\\roaming\\python\\python39\\site-packages (from matplotlib) (0.10.0)\n",
      "Requirement already satisfied: pillow>=6.2.0 in c:\\users\\auzri\\appdata\\roaming\\python\\python39\\site-packages (from matplotlib) (8.1.0)\n",
      "Requirement already satisfied: python-dateutil>=2.1 in c:\\users\\auzri\\appdata\\roaming\\python\\python39\\site-packages (from matplotlib) (2.8.1)\n",
      "Requirement already satisfied: kiwisolver>=1.0.1 in c:\\users\\auzri\\appdata\\roaming\\python\\python39\\site-packages (from matplotlib) (1.3.1)\n",
      "Requirement already satisfied: numpy>=1.15 in c:\\users\\auzri\\appdata\\roaming\\python\\python39\\site-packages (from matplotlib) (1.20.1)\n",
      "Requirement already satisfied: six in c:\\users\\auzri\\appdata\\roaming\\python\\python39\\site-packages (from cycler>=0.10->matplotlib) (1.15.0)\n",
      "Requirement already satisfied: mne in c:\\users\\auzri\\appdata\\local\\programs\\python\\python39\\lib\\site-packages (0.22.0)\n",
      "Requirement already satisfied: scipy>=0.17.1 in c:\\users\\auzri\\appdata\\local\\programs\\python\\python39\\lib\\site-packages (from mne) (1.6.0)\n",
      "Requirement already satisfied: numpy>=1.11.3 in c:\\users\\auzri\\appdata\\roaming\\python\\python39\\site-packages (from mne) (1.20.1)\n"
     ]
    }
   ],
   "source": [
    "#Ignore if Libaries are already installed\n",
    "!pip install -U numpy --user\n",
    "!pip install -U sklearn --user\n",
    "!pip install -U torch --user\n",
    "!pip install -U pandas --user\n",
    "!pip install -U matplotlib --user\n",
    "!pip install -U mne --user"
   ]
  },
  {
   "cell_type": "code",
   "execution_count": 2,
   "metadata": {},
   "outputs": [],
   "source": [
    "# ignore most of these imports this notebook used to do sth else\n",
    "import numpy as np\n",
    "\n",
    "from sklearn.metrics import roc_auc_score, precision_score, recall_score, accuracy_score\n",
    "from sklearn.model_selection import train_test_split\n",
    "from sklearn.preprocessing import StandardScaler\n",
    "\n",
    "import torch\n",
    "import torch.nn as nn\n",
    "import torch.optim as optim\n",
    "from torch.autograd import Variable\n",
    "import torch.nn.functional as F\n",
    "from torch.utils.data import Dataset\n",
    "\n",
    "import pandas as pd\n",
    "\n",
    "from matplotlib import pyplot\n",
    "\n",
    "import mne\n",
    "from mne.io import concatenate_raws, read_raw_fif\n",
    "import mne.viz\n",
    "\n",
    "from os import walk"
   ]
  },
  {
   "cell_type": "code",
   "execution_count": 3,
   "metadata": {},
   "outputs": [
    {
     "name": "stdout",
     "output_type": "stream",
     "text": [
      "['01_', '02_', '03_', '04_', '05_', '06_', '07_', '08_', '09_', '10_', '11_', '12_', '13_', '14_', '15_', '16_', '17_', '18_', '19_', '20_', '21_', '22_', '23_', '24_', '25_', '26_', '27_', '28_', '29_', '30_', '31_', '32_', '33_', '34_', '35_', '36_', '37_']\n"
     ]
    }
   ],
   "source": [
    "# link to dataset: https://zenodo.org/record/197404#.X1Li7HlKiUl\n",
    "# there are 27 participants in the trial, and each file name contains the ID of its participant\n",
    "participant_prefix = ['{:02}_'.format(x) for x in range(1, 38)]\n",
    "print(participant_prefix)"
   ]
  },
  {
   "cell_type": "code",
   "execution_count": 4,
   "metadata": {},
   "outputs": [],
   "source": [
    "files = []\n",
    "# study1_eeg is a folder with a bunch of csv files, each file partaining to a different trial\n",
    "path = 'EEG/'\n",
    "for prefix in participant_prefix:\n",
    "    for (dirpath, dirnames, filenames) in walk(path):\n",
    "        # gets the file paths and adds them to a list\n",
    "        new_names = [dirpath+f for f in filenames if (prefix in f)]\n",
    "        files.extend(new_names)\n",
    "        break\n"
   ]
  },
  {
   "cell_type": "code",
   "execution_count": 5,
   "metadata": {},
   "outputs": [
    {
     "name": "stdout",
     "output_type": "stream",
     "text": [
      "(12, 574700)\n",
      "[[   41.6    86.4    72.2 ...  -670.   -643.   -609.5]\n",
      " [   66.6     9.7   -50.4 ...  -540.   -510.2  -473. ]\n",
      " [   87.8    64.3    10.9 ... -1087.  -1059.  -1023.5]\n",
      " ...\n",
      " [ -107.9  -154.8  -170.2 ...  -756.   -730.5  -696. ]\n",
      " [ -132.4  -148.2  -149.4 ...  -745.5  -709.   -666. ]\n",
      " [ -199.2  -206.5  -186.1 ...  -513.5  -475.2  -431.8]]\n"
     ]
    }
   ],
   "source": [
    "tmp = np.loadtxt(files[0], delimiter=',', skiprows = 1, usecols=np.arange(1,13), dtype = np.float16)\n",
    "# finds the number of channels from the shape of the file (channels X timepoints)\n",
    "\n",
    "#TODO: Remove the resize\n",
    "tmp = np.transpose(tmp)\n",
    "\n",
    "#tmp = np.append(tmp, 200 * np.array([[]]), axis=0)\n",
    "#tmp = np.resize(tmp,(256, tmp.shape[1]))\n",
    "\n",
    "print(tmp.shape)\n",
    "#print(tmp[200])\n",
    "print(tmp)\n"
   ]
  },
  {
   "cell_type": "code",
   "execution_count": 6,
   "metadata": {},
   "outputs": [],
   "source": [
    "def loadFile(trial,participant_data):\n",
    "     # each iteration loads data from a trial\n",
    "    print(trial)\n",
    "    new_data = np.loadtxt(files[trial], delimiter=',', skiprows = 1, usecols=np.arange(1,13), dtype = np.float16)\n",
    "    new_data = np.transpose(new_data)\n",
    "    new_data = np.resize(new_data,(n_channels,n_times))\n",
    "    if trial == 0:\n",
    "        # just reassuring again that is the right shape\n",
    "        print('n_channels, n_times: ' + str(new_data.shape))\n",
    "    #new_data = new_data.astype(float32)\n",
    "    participant_data[trial] = new_data"
   ]
  },
  {
   "cell_type": "code",
   "execution_count": 7,
   "metadata": {},
   "outputs": [
    {
     "name": "stdout",
     "output_type": "stream",
     "text": [
      "(30, 12, 574700)\n",
      "0\n",
      "n_channels, n_times: (12, 574700)\n",
      "1\n",
      "2\n",
      "3\n",
      "4\n",
      "5\n",
      "6\n",
      "7\n",
      "8\n",
      "9\n",
      "10\n",
      "11\n",
      "12\n",
      "13\n",
      "14\n",
      "15\n",
      "16\n",
      "17\n",
      "18\n",
      "19\n",
      "20\n",
      "21\n",
      "22\n",
      "23\n",
      "24\n",
      "25\n",
      "26\n",
      "27\n",
      "28\n",
      "29\n",
      "[[   41.59375      86.375        72.1875    ...  -670.\n",
      "   -643.         -609.5      ]\n",
      " [   66.625         9.703125    -50.40625   ...  -540.\n",
      "   -510.25       -473.       ]\n",
      " [   87.8125       64.3125       10.8984375 ... -1087.\n",
      "  -1059.        -1023.5      ]\n",
      " ...\n",
      " [ -107.875      -154.75       -170.25      ...  -756.\n",
      "   -730.5        -696.       ]\n",
      " [ -132.375      -148.25       -149.375     ...  -745.5\n",
      "   -709.         -666.       ]\n",
      " [ -199.25       -206.5        -186.125     ...  -513.5\n",
      "   -475.25       -431.75     ]]\n",
      "Number of epochs: (30, 12, 574700)\n"
     ]
    }
   ],
   "source": [
    "from concurrent.futures import ThreadPoolExecutor\n",
    "import multiprocessing as mp\n",
    "from threading import Thread \n",
    "from multiprocessing import Pool\n",
    "\n",
    "\n",
    "n_channels = tmp.shape[0]\n",
    "n_times = tmp.shape[1]\n",
    "\n",
    "# makes an array large enough to hold all of the data\n",
    "arr = mp.Array('d', int(len(files)) * n_channels * n_times)\n",
    "participant_data = np.frombuffer(arr.get_obj(), 'd')\n",
    "participant_data = np.resize(participant_data,(int(len(files)), n_channels,n_times))\n",
    "print(participant_data.shape)\n",
    "\n",
    "\n",
    "for trial in range(0,len(files)):\n",
    "    # each iteration loads data from a trial\n",
    "    loadFile(trial,participant_data)\n",
    "#     with Pool(processes=5) as pool:\n",
    "#         pool.map(loadFile, (trial,participant_data)) \n",
    "\n",
    "print(participant_data[0])\n",
    "print('Number of epochs: ' + str(participant_data.shape))"
   ]
  },
  {
   "cell_type": "code",
   "execution_count": 8,
   "metadata": {},
   "outputs": [],
   "source": [
    "# gets the ID of the events from the names of each file\n",
    "epochs_events = []\n",
    "for f in files:\n",
    "    res = f.split('_')\n",
    "    res[-1] = res[-1].split('.')\n",
    "    epochs_events.append(res[-1][0])"
   ]
  },
  {
   "cell_type": "code",
   "execution_count": 9,
   "metadata": {},
   "outputs": [
    {
     "name": "stdout",
     "output_type": "stream",
     "text": [
      "['Unaware', 'Aware']\n",
      "['Aware', 'Unaware']\n"
     ]
    }
   ],
   "source": [
    "unique_events = list(set(epochs_events))\n",
    "print(unique_events)\n",
    "unique_events = sorted(unique_events)\n",
    "print(unique_events)\n",
    "unique_events_num = [i for i in range(len(unique_events))]\n",
    "\n",
    "# formats a numpy array to work with the epochs object \n",
    "# format = (event #, prev event class, current event class)\n",
    "epoch_events_num = np.ndarray((len(epochs_events),3),int)\n",
    "\n",
    "for i in range(len(epochs_events)):\n",
    "    for j in range(len(unique_events)):\n",
    "        if epochs_events[i] == unique_events[j]:\n",
    "            epoch_events_num[i,2] = unique_events_num[j]\n",
    "            if i > 0:\n",
    "                epoch_events_num[i,1] = epoch_events_num[i-1,2]\n",
    "            else:\n",
    "                epoch_events_num[i,1] = unique_events_num[j]\n",
    "        epoch_events_num[i,0] = i\n",
    "        \n",
    "# associates each event with an index\n",
    "event_id = {}\n",
    "for i in range(len(unique_events)):\n",
    "    event_id[unique_events[i]] = unique_events_num[i]\n"
   ]
  },
  {
   "cell_type": "code",
   "execution_count": 10,
   "metadata": {},
   "outputs": [
    {
     "name": "stdout",
     "output_type": "stream",
     "text": [
      "Number of channels: 256\n",
      "Creating RawArray with float64 data, n_channels=256, n_times=1\n",
      "    Range : 0 ... 0 =      0.000 ...     0.000 secs\n",
      "Ready.\n"
     ]
    },
    {
     "data": {
      "image/png": "[encoded data removed]",
      "text/plain": [
       "<Figure size 432x432 with 1 Axes>"
      ]
     },
     "metadata": {
      "needs_background": "light"
     },
     "output_type": "display_data"
    },
    {
     "name": "stdout",
     "output_type": "stream",
     "text": [
      "Number of channels after removing the fudicials: 12\n"
     ]
    }
   ],
   "source": [
    "%matplotlib inline\n",
    "\n",
    "# data was taken with a biosemi eeg device, so biosemi64 is passed into the function\n",
    "montage = mne.channels.make_standard_montage('GSN-HydroCel-256') \n",
    "print('Number of channels: ' + str(len(montage.ch_names)))\n",
    "montage.plot(show_names=True)\n",
    "n_channels = 256\n",
    "\n",
    "# there are 64 channels in the cap but 67 in the montage, three are just there for\n",
    "# reference (fiducial) and need to be removed\n",
    "#fiducials = ['Nz', 'LPA', 'RPA']\n",
    "\n",
    "#ch_names = montage.ch_names\n",
    "ch_names = ['E86','E96','E97','E109','E116','E119','E126','E140','E150','E161','E162','E170']\n",
    "\n",
    "#ch_names = [x for x in ch_names if x not in fiducials]\n",
    "print('Number of channels after removing the fudicials: '+ str(len(ch_names)))\n",
    "# Specify ampling rate\n",
    "sfreq = 256  # Hz"
   ]
  },
  {
   "cell_type": "code",
   "execution_count": 11,
   "metadata": {},
   "outputs": [
    {
     "name": "stdout",
     "output_type": "stream",
     "text": [
      "Not setting metadata\n",
      "Not setting metadata\n",
      "30 matching events found\n",
      "No baseline correction applied\n",
      "0 projection items activated\n",
      "0 bad epochs dropped\n"
     ]
    },
    {
     "data": {
      "text/plain": [
       "<Info | 8 non-empty values\n",
       " bads: []\n",
       " ch_names: E86, E96, E97, E109, E116, E119, E126, E140, E150, E161, E162, E170\n",
       " chs: 12 EEG\n",
       " custom_ref_applied: False\n",
       " dig: 15 items (3 Cardinal, 12 EEG)\n",
       " highpass: 0.0 Hz\n",
       " lowpass: 128.0 Hz\n",
       " meas_date: unspecified\n",
       " nchan: 12\n",
       " projs: []\n",
       " sfreq: 256.0 Hz\n",
       ">"
      ]
     },
     "execution_count": 11,
     "metadata": {},
     "output_type": "execute_result"
    }
   ],
   "source": [
    "# creates an mne info instance with the different info we've collected\n",
    "epochs_info = mne.create_info(ch_names, sfreq, ch_types='eeg')\n",
    "\n",
    "# creates an mne epochs object with the info and the data\n",
    "epochs = mne.EpochsArray(data=participant_data, info=epochs_info, events=epoch_events_num, event_id=event_id)\n",
    "epochs.set_montage(montage)\n",
    "\n",
    "# drops bad epochs, doesn't actually do anything rn\n",
    "epochs.drop_bad()\n",
    "\n",
    "epochs.info"
   ]
  },
  {
   "cell_type": "code",
   "execution_count": 12,
   "metadata": {},
   "outputs": [],
   "source": [
    "# save the epochs as a .fif\n",
    "epochs.save('EEG/epochdata/master.fif', verbose='error', overwrite=True)"
   ]
  },
  {
   "cell_type": "code",
   "execution_count": 13,
   "metadata": {},
   "outputs": [
    {
     "name": "stdout",
     "output_type": "stream",
     "text": [
      "<EpochsFIF |  30 events (all good), 0 - 2244.92 sec, baseline off, ~1.54 GB, data loaded,\n",
      " 'Aware': 17\n",
      " 'Unaware': 13>\n"
     ]
    }
   ],
   "source": [
    "# example of loading the data\n",
    "data_file = 'EEG/epochdata/master.fif'\n",
    "\n",
    "# Read the EEG epochs:\n",
    "epochs = mne.read_epochs(data_file, verbose='error')\n",
    "print(epochs)"
   ]
  },
  {
   "cell_type": "code",
   "execution_count": null,
   "metadata": {},
   "outputs": [],
   "source": []
  }
 ],
 "metadata": {
  "kernelspec": {
   "display_name": "Python 3",
   "language": "python",
   "name": "python3"
  },
  "language_info": {
   "codemirror_mode": {
    "name": "ipython",
    "version": 3
   },
   "file_extension": ".py",
   "mimetype": "text/x-python",
   "name": "python",
   "nbconvert_exporter": "python",
   "pygments_lexer": "ipython3",
   "version": "3.9.1"
  }
 },
 "nbformat": 4,
 "nbformat_minor": 4
}
